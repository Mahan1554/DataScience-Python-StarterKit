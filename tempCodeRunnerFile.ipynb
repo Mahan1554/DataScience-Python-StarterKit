# using pop
df.pop('ID+')
df