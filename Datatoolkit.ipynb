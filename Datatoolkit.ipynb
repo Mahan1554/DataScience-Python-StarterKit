{
 "cells": [
  {
   "cell_type": "code",
   "execution_count": null,
   "metadata": {},
   "outputs": [],
   "source": [
    "# reading data from a file\n",
    "f=open('C:\\\\Users\\\\mahan\\\\OneDrive\\\\Desktop\\\\DataScience\\\\demo.txt','r')\n",
    "data=f.read()\n",
    "print(data)\n",
    "f.close()"
   ]
  },
  {
   "cell_type": "code",
   "execution_count": null,
   "metadata": {},
   "outputs": [],
   "source": [
    "# reading  data from corpus file \n",
    "f=open('C:\\\\Users\\mahan\\OneDrive\\\\Desktop\\\\DataScience\\\\practice.txt','r')\n",
    "data = f.read()\n",
    "data.replace('\\n\\n','') \n",
    "print(data)"
   ]
  },
  {
   "cell_type": "code",
   "execution_count": null,
   "metadata": {},
   "outputs": [],
   "source": [
    "# Text Processing\n",
    "f=open('path','r')\n",
    "data=f.read()\n",
    "l=data.split('\\n\\n') \n",
    "print(len(l)) #no.of paragraphs\n",
    "l=data.split('.') # for no of lines\n",
    "print(len(l)-1)\n",
    "# for words--> space\n",
    "\n",
    "# use replace function to remove unwanted characters in text file\n",
    "data.replace('chararcter','')\n"
   ]
  },
  {
   "cell_type": "code",
   "execution_count": 2,
   "metadata": {},
   "outputs": [
    {
     "name": "stderr",
     "output_type": "stream",
     "text": [
      "'ls' is not recognized as an internal or external command,\n",
      "operable program or batch file.\n"
     ]
    }
   ],
   "source": [
    "# writing data into text file\n",
    "\n",
    "f=open('path', 'w') \n",
    "# if path exists --> writes into that file\n",
    "# else: creates new file with that name\n",
    "f.write('hihihi') # overwrites\n",
    "f.close()\n",
    "\n",
    "f=open('path','a') # append mode\n",
    "f.write('hihihi') # appends\n",
    "f.close()\n",
    "\n",
    "\n",
    "# use \\n to append in the newline "
   ]
  }
 ],
 "metadata": {
  "kernelspec": {
   "display_name": "base",
   "language": "python",
   "name": "python3"
  },
  "language_info": {
   "codemirror_mode": {
    "name": "ipython",
    "version": 3
   },
   "file_extension": ".py",
   "mimetype": "text/x-python",
   "name": "python",
   "nbconvert_exporter": "python",
   "pygments_lexer": "ipython3",
   "version": "3.9.12"
  }
 },
 "nbformat": 4,
 "nbformat_minor": 2
}
