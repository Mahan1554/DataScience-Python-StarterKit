{
 "cells": [
  {
   "cell_type": "markdown",
   "metadata": {},
   "source": [
    "<h1 style=\"text-align: center;\">Numerical Python</h1>\n"
   ]
  },
  {
   "cell_type": "markdown",
   "metadata": {},
   "source": [
    "Axis 0: Operates column-wise (down the rows). Think of it as \"moving vertically.\"\n",
    "\n",
    "Axis 1: Operates row-wise (across the columns). Think of it as \"moving horizontally.\""
   ]
  },
  {
   "cell_type": "code",
   "execution_count": 2,
   "metadata": {},
   "outputs": [],
   "source": [
    "import numpy as np"
   ]
  },
  {
   "cell_type": "markdown",
   "metadata": {},
   "source": [
    "### List to numpy array"
   ]
  },
  {
   "cell_type": "code",
   "execution_count": 16,
   "metadata": {},
   "outputs": [
    {
     "name": "stdout",
     "output_type": "stream",
     "text": [
      "[1 2 3 4] <class 'numpy.ndarray'>\n",
      "1\n",
      "[[1 2 3 4]]\n",
      "[[[[[1 2 3 4]]]]]\n",
      "[[1 2 3]\n",
      " [4 5 6]\n",
      " [7 8 9]]\n",
      "2\n"
     ]
    }
   ],
   "source": [
    "l=[1,2,3,4]\n",
    "nl1=np.array(l)\n",
    "print(nl1,type(nl1))\n",
    "print(nl1.ndim) # dimension=1\n",
    "\n",
    "nl2=np.array(l,ndmin=2) # creates 2D array\n",
    "print(nl2) \n",
    "\n",
    "nl5=np.array(l,ndmin=5)\n",
    "print(nl5) # creates 5D array\n",
    "\n",
    "\n",
    "#multidimensional array\n",
    "l1=[[1,2,3],[4,5,6],[7,8,9]]\n",
    "a=np.array(l1)\n",
    "print(a)\n",
    "print(a.ndim) # 2"
   ]
  },
  {
   "cell_type": "markdown",
   "metadata": {},
   "source": [
    "### Arange fun"
   ]
  },
  {
   "cell_type": "code",
   "execution_count": 45,
   "metadata": {},
   "outputs": [
    {
     "data": {
      "text/plain": [
       "array([1, 3, 5])"
      ]
     },
     "execution_count": 45,
     "metadata": {},
     "output_type": "execute_result"
    }
   ],
   "source": [
    "a=np.arange(1,10) # 1 to 9 array ( default step 1 )\n",
    "a1= np.arange(1,6,2) # step 2\n",
    "a1"
   ]
  },
  {
   "cell_type": "code",
   "execution_count": 8,
   "metadata": {},
   "outputs": [
    {
     "name": "stdout",
     "output_type": "stream",
     "text": [
      "2\n",
      "12\n",
      "3\n",
      "4\n",
      "(3, 4)\n",
      "(3, 4)\n",
      "int32\n"
     ]
    }
   ],
   "source": [
    "l=[[1,2,3,3],[4,5,6,6],[7,8,9,9]]\n",
    "a=np.array(l)\n",
    "a\n",
    "\n",
    "print(a.ndim) # 2\n",
    "print(a.size) # number of elements =9\n",
    "print(np.size(a,0)) # axis=0 , no of rows =3\n",
    "print(np.size(a,1)) # axis 1, no of cols = 4\n",
    "\n",
    "\n",
    "# tuple  (rows,cols)\n",
    "print(a.shape)\n",
    "print(np.shape(a))\n",
    "\n",
    "\n",
    "#Dtype\n",
    "print(a.dtype) # int32\n"
   ]
  },
  {
   "cell_type": "markdown",
   "metadata": {},
   "source": [
    "### Zeros fun"
   ]
  },
  {
   "cell_type": "code",
   "execution_count": 18,
   "metadata": {},
   "outputs": [
    {
     "data": {
      "text/plain": [
       "array([[0, 0, 0],\n",
       "       [0, 0, 0],\n",
       "       [0, 0, 0],\n",
       "       [0, 0, 0]])"
      ]
     },
     "execution_count": 18,
     "metadata": {},
     "output_type": "execute_result"
    }
   ],
   "source": [
    "z=np.zeros(shape=(2,1)) # 2 rows , 1 col\n",
    "z=np.zeros(shape=(4,3),dtype=int) # 4 rows , 3 cols\n",
    "z # gives float zeros"
   ]
  },
  {
   "cell_type": "markdown",
   "metadata": {},
   "source": [
    "### Ones fun"
   ]
  },
  {
   "cell_type": "code",
   "execution_count": 17,
   "metadata": {},
   "outputs": [
    {
     "data": {
      "text/plain": [
       "array([[1, 1, 1],\n",
       "       [1, 1, 1],\n",
       "       [1, 1, 1],\n",
       "       [1, 1, 1]])"
      ]
     },
     "execution_count": 17,
     "metadata": {},
     "output_type": "execute_result"
    }
   ],
   "source": [
    "o=np.ones(shape=(2,3)) # 2 rows, 3 cols , float 1s\n",
    "o= np.ones(shape=(4,3),dtype=int) # int 1s\n",
    "o"
   ]
  },
  {
   "cell_type": "markdown",
   "metadata": {},
   "source": [
    "### Eye fun"
   ]
  },
  {
   "cell_type": "code",
   "execution_count": 20,
   "metadata": {},
   "outputs": [
    {
     "data": {
      "text/plain": [
       "array([[1, 0, 0, 0],\n",
       "       [0, 1, 0, 0],\n",
       "       [0, 0, 1, 0],\n",
       "       [0, 0, 0, 1]])"
      ]
     },
     "execution_count": 20,
     "metadata": {},
     "output_type": "execute_result"
    }
   ],
   "source": [
    "# identity matrix\n",
    "I = np.eye(3)\n",
    "I=np.eye(4,dtype=int)\n",
    "I"
   ]
  },
  {
   "cell_type": "markdown",
   "metadata": {},
   "source": [
    "### Empty fun"
   ]
  },
  {
   "cell_type": "code",
   "execution_count": 58,
   "metadata": {},
   "outputs": [
    {
     "name": "stdout",
     "output_type": "stream",
     "text": [
      "[[1. 0. 0.]\n",
      " [0. 1. 0.]\n",
      " [0. 0. 1.]]\n"
     ]
    }
   ],
   "source": [
    "arr = np.empty((3, 3))\n",
    "print(arr)\n",
    "\n",
    "#The np.empty() function allocates memory for the array but does not set its values,\n",
    "# so the array contains whatever values were already in that part of memory (random, uninitialized data)."
   ]
  },
  {
   "cell_type": "markdown",
   "metadata": {},
   "source": [
    "### Random fun\n"
   ]
  },
  {
   "cell_type": "code",
   "execution_count": 5,
   "metadata": {},
   "outputs": [],
   "source": [
    "# 1. rand - Generates random numbers uniformly distributed in [0,1).\n",
    "np.random.rand(4) # 1D\n",
    "np.random.rand(3,4) # 2D\n",
    "\n",
    "# 2. randint [)- random integers between a specified range.\n",
    "np.random.randint(1,10) # Generate a random integer in [1,10)\n",
    "np.random.randint(1,10,size=(3,3))  # 2D\n",
    "\n",
    "# 3. randn -  Generates random numbers from a standard normal distribution\n",
    "arr = np.random.randn(500000)\n",
    "arr_2d = np.random.randn(2, 3)"
   ]
  },
  {
   "cell_type": "markdown",
   "metadata": {},
   "source": [
    "### Reshape fun "
   ]
  },
  {
   "cell_type": "code",
   "execution_count": 35,
   "metadata": {},
   "outputs": [
    {
     "name": "stdout",
     "output_type": "stream",
     "text": [
      "[[ 6  7  8  9]\n",
      " [ 4 10  7  2]\n",
      " [ 8  8  4  5]]\n"
     ]
    },
    {
     "data": {
      "text/plain": [
       "array([[ 6,  7,  8],\n",
       "       [ 9,  4, 10],\n",
       "       [ 7,  2,  8],\n",
       "       [ 8,  4,  5]])"
      ]
     },
     "execution_count": 35,
     "metadata": {},
     "output_type": "execute_result"
    }
   ],
   "source": [
    "# does not change orignal array\n",
    "# sizes should match before and after\n",
    "a=np.random.randint(1,11,size=(3,4))\n",
    "print(a)\n",
    "#print(a.shape) # (3,4)\n",
    "\n",
    "ar=a.reshape(4,3)\n",
    "ar"
   ]
  },
  {
   "cell_type": "markdown",
   "metadata": {},
   "source": [
    "### Linspace fun"
   ]
  },
  {
   "cell_type": "code",
   "execution_count": 72,
   "metadata": {},
   "outputs": [
    {
     "name": "stdout",
     "output_type": "stream",
     "text": [
      "[[3 1 3 1]\n",
      " [6 4 4 7]\n",
      " [8 6 4 4]]\n",
      "[3 1 3 1 6 4 4 7 8 6 4 4]\n"
     ]
    }
   ],
   "source": [
    "# numpy.linspace(start, stop, num=50) \n",
    "\n",
    "np.linspace(1,10,10) # 10 evenly spaced values fomr 1 to 10\n",
    "# by default, numpy.linspace() generates 50 evenly spaced elements between the specified start and stop values.\n",
    "\n",
    "np.linspace(0,20,5)\n",
    "\n",
    "\n",
    "\n",
    "a=np.random.randint(1,10,size=(3,4))\n",
    "print(a)\n",
    "f=a.flatten() # makes 1D\n",
    "print(f)"
   ]
  },
  {
   "cell_type": "markdown",
   "metadata": {},
   "source": [
    "### Logspace fun"
   ]
  },
  {
   "cell_type": "code",
   "execution_count": 3,
   "metadata": {},
   "outputs": [
    {
     "data": {
      "text/plain": [
       "array([  10.        ,   16.68100537,   27.82559402,   46.41588834,\n",
       "         77.42636827,  129.1549665 ,  215.443469  ,  359.38136638,\n",
       "        599.48425032, 1000.        ])"
      ]
     },
     "execution_count": 3,
     "metadata": {},
     "output_type": "execute_result"
    }
   ],
   "source": [
    "# numpy.logspace(start, stop, num=50, endpoint=True, base=10.0, dtype=None)\n",
    "\n",
    "# to generate 10 numbers evenly spaced between 10 and 1000 on log scale \n",
    "\n",
    "np.logspace(1,3,num=10,base=10)\n"
   ]
  },
  {
   "cell_type": "markdown",
   "metadata": {},
   "source": [
    "### copy fun"
   ]
  },
  {
   "cell_type": "code",
   "execution_count": 9,
   "metadata": {},
   "outputs": [
    {
     "name": "stdout",
     "output_type": "stream",
     "text": [
      "[1 2 3 4] [1 2 3 4]\n",
      "1763013797616 1763013797616\n",
      "[1 2 3 4]\n",
      "1763013797616 1763014860496\n"
     ]
    }
   ],
   "source": [
    "a1=np.array([1,2,3,4])\n",
    "a2=a1\n",
    "print(a1,a2)\n",
    "print(id(a1),id(a2)) # same \n",
    "\n",
    "\n",
    "# copy function\n",
    "a2=np.copy(a1)\n",
    "print(a2)\n",
    "print(id(a1),id(a2)) # different "
   ]
  },
  {
   "cell_type": "markdown",
   "metadata": {},
   "source": [
    "### Min, Max, Sum"
   ]
  },
  {
   "cell_type": "code",
   "execution_count": 18,
   "metadata": {},
   "outputs": [
    {
     "data": {
      "text/plain": [
       "15"
      ]
     },
     "execution_count": 18,
     "metadata": {},
     "output_type": "execute_result"
    }
   ],
   "source": [
    "a=np.array([1,2,3,4,5])\n",
    "a\n",
    "\n",
    "a.max() # max value\n",
    "a.min() # min value\n",
    "a.sum() # sum of all "
   ]
  },
  {
   "cell_type": "code",
   "execution_count": 25,
   "metadata": {},
   "outputs": [
    {
     "name": "stdout",
     "output_type": "stream",
     "text": [
      "[[5 4 2 4]\n",
      " [3 2 3 1]\n",
      " [5 2 9 4]]\n",
      "9 1 44\n",
      "[5 4 9 4]\n",
      "[3 2 2 1]\n",
      "[13  8 14  9]\n",
      "[5 3 9]\n",
      "[2 1 2]\n",
      "[15  9 20]\n"
     ]
    }
   ],
   "source": [
    "# For multidimensional arrays\n",
    "a=np.random.randint(1,10,(3,4))\n",
    "print(a)\n",
    "\n",
    "print(a.max(),a.min(), a.sum())\n",
    "\n",
    "# for columns\n",
    "print(a.max(axis=0)) # max value in each col\n",
    "print(a.min(axis=0))\n",
    "print(a.sum(axis=0))\n",
    "\n",
    "# for rows\n",
    "print(a.max(axis=1)) # max value in each row\n",
    "print(a.min(axis=1))\n",
    "print(a.sum(axis=1))"
   ]
  },
  {
   "cell_type": "markdown",
   "metadata": {},
   "source": [
    "### Seed fun"
   ]
  },
  {
   "cell_type": "code",
   "execution_count": 30,
   "metadata": {},
   "outputs": [
    {
     "data": {
      "text/plain": [
       "array([[9, 4, 9, 9, 1],\n",
       "       [6, 4, 6, 8, 7],\n",
       "       [1, 5, 8, 9, 2]])"
      ]
     },
     "execution_count": 30,
     "metadata": {},
     "output_type": "execute_result"
    }
   ],
   "source": [
    "np.random.seed(3)\n",
    "a=np.random.randint(1,10,(3,5))\n",
    "a"
   ]
  },
  {
   "cell_type": "markdown",
   "metadata": {},
   "source": [
    "### Sorting"
   ]
  },
  {
   "cell_type": "code",
   "execution_count": 41,
   "metadata": {},
   "outputs": [
    {
     "name": "stdout",
     "output_type": "stream",
     "text": [
      "[[9 4 9 9 1]\n",
      " [6 4 6 8 7]\n",
      " [1 5 8 9 2]] \n",
      "\n",
      "[[1 4 6 8 1]\n",
      " [6 4 8 9 2]\n",
      " [9 5 9 9 7]] \n",
      "\n",
      "[[1 4 9 9 9]\n",
      " [4 6 6 7 8]\n",
      " [1 2 5 8 9]]\n",
      "[[1 4 9 9 9]\n",
      " [4 6 6 7 8]\n",
      " [1 2 5 8 9]]\n"
     ]
    }
   ],
   "source": [
    "print(a,\"\\n\")\n",
    "np.sort(a) # sorts rowwise (not change original array)\n",
    "\n",
    "print(np.sort(a,axis=0),'\\n') # sorts colwise\n",
    "print(np.sort(a,axis=1)) # sorts rowwise\n",
    "\n",
    "# to sort entire array, flatten it, sort it , reshape to original shape\n",
    "np.reshape(np.sort(a.flatten()),(3,5))\n",
    "\n",
    "\n",
    "# we can also give the type of sort\n",
    "print(np.sort(a,kind='mergesort'))"
   ]
  },
  {
   "cell_type": "markdown",
   "metadata": {},
   "source": [
    "### Mathematical Ops"
   ]
  },
  {
   "cell_type": "code",
   "execution_count": 59,
   "metadata": {},
   "outputs": [
    {
     "name": "stdout",
     "output_type": "stream",
     "text": [
      "[[9 4 9 9 1]\n",
      " [6 4 6 8 7]\n",
      " [1 5 8 9 2]]\n",
      "[[11  6 11 11  3]\n",
      " [ 4  6  4 10  5]\n",
      " [ 3  7 10 11  0]]\n",
      "[[81 16 81 81  1]\n",
      " [36 16 36 64 49]\n",
      " [ 1 25 64 81  4]]\n"
     ]
    }
   ],
   "source": [
    "np.random.seed(3)\n",
    "a=np.random.randint(1,10,(3,5))\n",
    "print(a)\n",
    "\n",
    "a+1 # add 1 to all elements\n",
    "a-1\n",
    "a/2\n",
    "a*2\n",
    "a//2\n",
    "a%2\n",
    "a**2 # power\n",
    "\n",
    "\n",
    "# matrix multiplication\n",
    "# The number of columns in a1 must equal the number of rows in a2\n",
    "a1=np.array([[1,2],[3,4]])\n",
    "a2=np.array([[3,4],[2,1]])\n",
    "a1.dot(a2)\n",
    "\n",
    "# operates on respective elements \n",
    "a1+a2\n",
    "a1-a2\n",
    "a1*a2\n",
    "a1/a2\n"
   ]
  },
  {
   "cell_type": "markdown",
   "metadata": {},
   "source": [
    "### Percentile fun"
   ]
  },
  {
   "cell_type": "code",
   "execution_count": 63,
   "metadata": {},
   "outputs": [
    {
     "name": "stdout",
     "output_type": "stream",
     "text": [
      "50th Percentile: 5.5\n",
      "90th Percentile: 9.1\n"
     ]
    }
   ],
   "source": [
    "data = np.array([1, 2, 3, 4, 5, 6, 7, 8, 9,10])\n",
    "\n",
    "# Calculate the 50th percentile (median)\n",
    "p50 = np.percentile(data, 50)\n",
    "print(\"50th Percentile:\", p50)\n",
    "\n",
    "p90 = np.percentile(data, 90)\n",
    "print(\"90th Percentile:\", p90)"
   ]
  },
  {
   "cell_type": "markdown",
   "metadata": {},
   "source": [
    "### Mean, Variance, SD"
   ]
  },
  {
   "cell_type": "code",
   "execution_count": 72,
   "metadata": {},
   "outputs": [
    {
     "name": "stdout",
     "output_type": "stream",
     "text": [
      "[1 2 3 4 5]\n",
      "3.0\n",
      "2.0\n",
      "1.4142135623730951\n"
     ]
    },
    {
     "data": {
      "text/plain": [
       "array([6., 6., 6.])"
      ]
     },
     "execution_count": 72,
     "metadata": {},
     "output_type": "execute_result"
    }
   ],
   "source": [
    "a=np.array([1,2,3,4,5])\n",
    "print(a)\n",
    "\n",
    "print(a.mean())\n",
    "print(a.var())\n",
    "print(a.std())\n",
    "\n",
    "a2=np.array([[1,2,3],[4,5,6],[7,8,9]])\n",
    "a2.mean() # for flattened array\n",
    "a2.mean(axis=1) # rowwsie mean\n",
    "a2.var(axis=0) # colwise variance"
   ]
  },
  {
   "cell_type": "markdown",
   "metadata": {},
   "source": [
    "### Filtering numpy array"
   ]
  },
  {
   "cell_type": "code",
   "execution_count": 83,
   "metadata": {},
   "outputs": [
    {
     "name": "stdout",
     "output_type": "stream",
     "text": [
      "[1 2 3 4 5 6 7 8 9]\n",
      "[False False False False False  True  True  True  True]\n"
     ]
    },
    {
     "data": {
      "text/plain": [
       "array([ 1,  2,  3,  4,  5, 10, 10, 10, 10])"
      ]
     },
     "execution_count": 83,
     "metadata": {},
     "output_type": "execute_result"
    }
   ],
   "source": [
    "a=np.arange(1,10)\n",
    "print(a)\n",
    "\n",
    "print(a>5)\n",
    "a[a>5]\n",
    "\n",
    "# replace all values above 5 with 10\n",
    "a[a>5]=10\n",
    "a\n"
   ]
  },
  {
   "cell_type": "markdown",
   "metadata": {},
   "source": [
    "### Transpose"
   ]
  },
  {
   "cell_type": "code",
   "execution_count": 86,
   "metadata": {},
   "outputs": [
    {
     "name": "stdout",
     "output_type": "stream",
     "text": [
      "[[2 2 6 6 8]\n",
      " [5 4 1 1 1]\n",
      " [1 3 3 8 1]]\n",
      "[[2 5 1]\n",
      " [2 4 3]\n",
      " [6 1 3]\n",
      " [6 1 8]\n",
      " [8 1 1]]\n"
     ]
    }
   ],
   "source": [
    "a=np.random.randint(1,10,(3,5))\n",
    "print(a)\n",
    "print(a.T) # transpose of a"
   ]
  },
  {
   "cell_type": "markdown",
   "metadata": {},
   "source": [
    "### Where function"
   ]
  },
  {
   "cell_type": "code",
   "execution_count": 91,
   "metadata": {},
   "outputs": [
    {
     "name": "stdout",
     "output_type": "stream",
     "text": [
      "[40 51 66 36 46 53  2 19 64  3]\n"
     ]
    },
    {
     "data": {
      "text/plain": [
       "array(['even', 'odd', 'even', 'even', 'even', 'odd', 'even', 'odd',\n",
       "       'even', 'odd'], dtype='<U4')"
      ]
     },
     "execution_count": 91,
     "metadata": {},
     "output_type": "execute_result"
    }
   ],
   "source": [
    "a=np.random.randint(1,100,10)\n",
    "print(a)\n",
    "\n",
    "# return even or odd \n",
    "np.where(a%2==0,'even','odd')"
   ]
  },
  {
   "cell_type": "markdown",
   "metadata": {},
   "source": [
    "### Merge arrays"
   ]
  },
  {
   "cell_type": "code",
   "execution_count": 107,
   "metadata": {},
   "outputs": [
    {
     "name": "stdout",
     "output_type": "stream",
     "text": [
      "[[1 1 1]\n",
      " [2 2 2]\n",
      " [3 3 3]] \n",
      "\n",
      " [[1 2 3]\n",
      " [4 5 6]\n",
      " [1 1 1]]\n"
     ]
    },
    {
     "data": {
      "text/plain": [
       "array([[1, 1, 1],\n",
       "       [2, 2, 2],\n",
       "       [3, 3, 3],\n",
       "       [1, 2, 3],\n",
       "       [4, 5, 6],\n",
       "       [1, 1, 1]])"
      ]
     },
     "execution_count": 107,
     "metadata": {},
     "output_type": "execute_result"
    }
   ],
   "source": [
    "# using concatenation\n",
    "a1=np.array([[1,1,1],[2,2,2],[3,3,3]])\n",
    "a2=np.array([[1,2,3],[4,5,6],[1,1,1]])\n",
    "\n",
    "print(a1,'\\n\\n',a2)\n",
    "\n",
    "np.concatenate((a1,a2))  # rowwise\n",
    "np.concatenate((a1,a2),axis=0) # rowwise\n",
    "np.concatenate((a1,a2),axis=1) # colwise\n",
    "\n",
    "\n",
    "\n",
    "# using vstack and hstack\n",
    "np.hstack((a1,a2)) # similar to axis=1 , along cols\n",
    "np.vstack((a1,a2)) # similar to axis=0 , along rows\n"
   ]
  },
  {
   "cell_type": "markdown",
   "metadata": {},
   "source": [
    "### Split arrays"
   ]
  },
  {
   "cell_type": "code",
   "execution_count": 116,
   "metadata": {},
   "outputs": [
    {
     "name": "stdout",
     "output_type": "stream",
     "text": [
      "[[1 4 8 4]\n",
      " [6 7 2 6]\n",
      " [4 7 9 6]\n",
      " [7 8 1 3]]\n"
     ]
    },
    {
     "data": {
      "text/plain": [
       "[array([[1, 4],\n",
       "        [6, 7],\n",
       "        [4, 7],\n",
       "        [7, 8]]),\n",
       " array([[8, 4],\n",
       "        [2, 6],\n",
       "        [9, 6],\n",
       "        [1, 3]])]"
      ]
     },
     "execution_count": 116,
     "metadata": {},
     "output_type": "execute_result"
    }
   ],
   "source": [
    "a=np.random.randint(1,10,(4,4))\n",
    "print(a)\n",
    "#splits must divide the array into equal parts along the specified axis\n",
    "\n",
    "np.vsplit(a,2) # vertival split\n",
    "np.hsplit(a,2) # horizontal split\n"
   ]
  }
 ],
 "metadata": {
  "kernelspec": {
   "display_name": "base",
   "language": "python",
   "name": "python3"
  },
  "language_info": {
   "codemirror_mode": {
    "name": "ipython",
    "version": 3
   },
   "file_extension": ".py",
   "mimetype": "text/x-python",
   "name": "python",
   "nbconvert_exporter": "python",
   "pygments_lexer": "ipython3",
   "version": "3.9.12"
  }
 },
 "nbformat": 4,
 "nbformat_minor": 2
}
